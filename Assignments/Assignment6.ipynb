{
  "nbformat": 4,
  "nbformat_minor": 0,
  "metadata": {
    "colab": {
      "name": "Assignment6.ipynb",
      "provenance": []
    },
    "kernelspec": {
      "name": "python3",
      "display_name": "Python 3"
    },
    "language_info": {
      "name": "python"
    }
  },
  "cells": [
    {
      "cell_type": "markdown",
      "metadata": {
        "id": "wJY2fCfaunXK"
      },
      "source": [
        "Download iris dataset and usual libraries"
      ]
    },
    {
      "cell_type": "code",
      "metadata": {
        "id": "q4YGRIpetYwv"
      },
      "source": [
        "import pandas as pd\n",
        "import numpy as np\n",
        "import scipy\n",
        "import seaborn as sns\n",
        "import math\n",
        "from sklearn import datasets\n",
        "from sklearn.model_selection import train_test_split\n",
        "import matplotlib.pyplot as plt \n",
        "import matplotlib as mpl\n",
        "from sklearn.preprocessing import StandardScaler, normalize\n",
        "from sklearn.decomposition import PCA\n",
        "from sklearn.mixture import GaussianMixture \n",
        "from sklearn.metrics import silhouette_score\n",
        "from sklearn.model_selection import train_test_split\n",
        "from sklearn import metrics\n",
        "\n",
        "import matplotlib.pyplot as plt\n",
        "\n",
        "%matplotlib inline\n",
        "\n",
        "import seaborn as sns # for data visualiztions"
      ],
      "execution_count": 1,
      "outputs": []
    },
    {
      "cell_type": "code",
      "metadata": {
        "id": "d3vT7ovvuxSk"
      },
      "source": [
        "iris = datasets.load_iris()\n",
        "df_data = pd.DataFrame(data=iris.data, columns=[\"sepal_length\", \"sepal_width\", \"petal_length\", \"petal_width\"])\n",
        "df_target = pd.DataFrame(data=iris.target, columns=[\"class\"])\n"
      ],
      "execution_count": 2,
      "outputs": []
    },
    {
      "cell_type": "code",
      "metadata": {
        "colab": {
          "base_uri": "https://localhost:8080/",
          "height": 202
        },
        "id": "CTzE_MgA8XCR",
        "outputId": "589bb80e-f4c7-4143-95a1-2fae33bc8f15"
      },
      "source": [
        "df_data.sample(5)"
      ],
      "execution_count": 3,
      "outputs": [
        {
          "output_type": "execute_result",
          "data": {
            "text/html": [
              "<div>\n",
              "<style scoped>\n",
              "    .dataframe tbody tr th:only-of-type {\n",
              "        vertical-align: middle;\n",
              "    }\n",
              "\n",
              "    .dataframe tbody tr th {\n",
              "        vertical-align: top;\n",
              "    }\n",
              "\n",
              "    .dataframe thead th {\n",
              "        text-align: right;\n",
              "    }\n",
              "</style>\n",
              "<table border=\"1\" class=\"dataframe\">\n",
              "  <thead>\n",
              "    <tr style=\"text-align: right;\">\n",
              "      <th></th>\n",
              "      <th>sepal_length</th>\n",
              "      <th>sepal_width</th>\n",
              "      <th>petal_length</th>\n",
              "      <th>petal_width</th>\n",
              "    </tr>\n",
              "  </thead>\n",
              "  <tbody>\n",
              "    <tr>\n",
              "      <th>134</th>\n",
              "      <td>6.1</td>\n",
              "      <td>2.6</td>\n",
              "      <td>5.6</td>\n",
              "      <td>1.4</td>\n",
              "    </tr>\n",
              "    <tr>\n",
              "      <th>73</th>\n",
              "      <td>6.1</td>\n",
              "      <td>2.8</td>\n",
              "      <td>4.7</td>\n",
              "      <td>1.2</td>\n",
              "    </tr>\n",
              "    <tr>\n",
              "      <th>127</th>\n",
              "      <td>6.1</td>\n",
              "      <td>3.0</td>\n",
              "      <td>4.9</td>\n",
              "      <td>1.8</td>\n",
              "    </tr>\n",
              "    <tr>\n",
              "      <th>72</th>\n",
              "      <td>6.3</td>\n",
              "      <td>2.5</td>\n",
              "      <td>4.9</td>\n",
              "      <td>1.5</td>\n",
              "    </tr>\n",
              "    <tr>\n",
              "      <th>49</th>\n",
              "      <td>5.0</td>\n",
              "      <td>3.3</td>\n",
              "      <td>1.4</td>\n",
              "      <td>0.2</td>\n",
              "    </tr>\n",
              "  </tbody>\n",
              "</table>\n",
              "</div>"
            ],
            "text/plain": [
              "     sepal_length  sepal_width  petal_length  petal_width\n",
              "134           6.1          2.6           5.6          1.4\n",
              "73            6.1          2.8           4.7          1.2\n",
              "127           6.1          3.0           4.9          1.8\n",
              "72            6.3          2.5           4.9          1.5\n",
              "49            5.0          3.3           1.4          0.2"
            ]
          },
          "metadata": {},
          "execution_count": 3
        }
      ]
    },
    {
      "cell_type": "code",
      "metadata": {
        "colab": {
          "base_uri": "https://localhost:8080/",
          "height": 202
        },
        "id": "dysL1I4K8ZVZ",
        "outputId": "670e6747-17a6-4d78-f484-3efebd7caa83"
      },
      "source": [
        "df_target.sample(5)"
      ],
      "execution_count": 4,
      "outputs": [
        {
          "output_type": "execute_result",
          "data": {
            "text/html": [
              "<div>\n",
              "<style scoped>\n",
              "    .dataframe tbody tr th:only-of-type {\n",
              "        vertical-align: middle;\n",
              "    }\n",
              "\n",
              "    .dataframe tbody tr th {\n",
              "        vertical-align: top;\n",
              "    }\n",
              "\n",
              "    .dataframe thead th {\n",
              "        text-align: right;\n",
              "    }\n",
              "</style>\n",
              "<table border=\"1\" class=\"dataframe\">\n",
              "  <thead>\n",
              "    <tr style=\"text-align: right;\">\n",
              "      <th></th>\n",
              "      <th>class</th>\n",
              "    </tr>\n",
              "  </thead>\n",
              "  <tbody>\n",
              "    <tr>\n",
              "      <th>101</th>\n",
              "      <td>2</td>\n",
              "    </tr>\n",
              "    <tr>\n",
              "      <th>126</th>\n",
              "      <td>2</td>\n",
              "    </tr>\n",
              "    <tr>\n",
              "      <th>69</th>\n",
              "      <td>1</td>\n",
              "    </tr>\n",
              "    <tr>\n",
              "      <th>74</th>\n",
              "      <td>1</td>\n",
              "    </tr>\n",
              "    <tr>\n",
              "      <th>135</th>\n",
              "      <td>2</td>\n",
              "    </tr>\n",
              "  </tbody>\n",
              "</table>\n",
              "</div>"
            ],
            "text/plain": [
              "     class\n",
              "101      2\n",
              "126      2\n",
              "69       1\n",
              "74       1\n",
              "135      2"
            ]
          },
          "metadata": {},
          "execution_count": 4
        }
      ]
    },
    {
      "cell_type": "markdown",
      "metadata": {
        "id": "Dj3jr4uUI1t3"
      },
      "source": [
        "Use GMM to separate the clusters using all 4 features: petal length & width, and sepal length & width. Map each cluster to a class by picking the most common class for each cluster (using the scipy.stats.mode() function"
      ]
    },
    {
      "cell_type": "code",
      "metadata": {
        "colab": {
          "base_uri": "https://localhost:8080/",
          "height": 202
        },
        "id": "6T2zwYHgnJ7o",
        "outputId": "0608ccf5-11a5-452c-b1b3-e98a4a002ba0"
      },
      "source": [
        "from sklearn.preprocessing import StandardScaler\n",
        "\n",
        "scaler = StandardScaler()\n",
        "\n",
        "\n",
        "scaler.fit(df_data)\n",
        "X_scaled_array = scaler.transform(df_data)\n",
        "X_scaled = pd.DataFrame(X_scaled_array, columns = df_data.columns)\n",
        "\n",
        "X_scaled.sample(5)"
      ],
      "execution_count": 5,
      "outputs": [
        {
          "output_type": "execute_result",
          "data": {
            "text/html": [
              "<div>\n",
              "<style scoped>\n",
              "    .dataframe tbody tr th:only-of-type {\n",
              "        vertical-align: middle;\n",
              "    }\n",
              "\n",
              "    .dataframe tbody tr th {\n",
              "        vertical-align: top;\n",
              "    }\n",
              "\n",
              "    .dataframe thead th {\n",
              "        text-align: right;\n",
              "    }\n",
              "</style>\n",
              "<table border=\"1\" class=\"dataframe\">\n",
              "  <thead>\n",
              "    <tr style=\"text-align: right;\">\n",
              "      <th></th>\n",
              "      <th>sepal_length</th>\n",
              "      <th>sepal_width</th>\n",
              "      <th>petal_length</th>\n",
              "      <th>petal_width</th>\n",
              "    </tr>\n",
              "  </thead>\n",
              "  <tbody>\n",
              "    <tr>\n",
              "      <th>25</th>\n",
              "      <td>-1.021849</td>\n",
              "      <td>-0.131979</td>\n",
              "      <td>-1.226552</td>\n",
              "      <td>-1.315444</td>\n",
              "    </tr>\n",
              "    <tr>\n",
              "      <th>7</th>\n",
              "      <td>-1.021849</td>\n",
              "      <td>0.788808</td>\n",
              "      <td>-1.283389</td>\n",
              "      <td>-1.315444</td>\n",
              "    </tr>\n",
              "    <tr>\n",
              "      <th>149</th>\n",
              "      <td>0.068662</td>\n",
              "      <td>-0.131979</td>\n",
              "      <td>0.762758</td>\n",
              "      <td>0.790671</td>\n",
              "    </tr>\n",
              "    <tr>\n",
              "      <th>141</th>\n",
              "      <td>1.280340</td>\n",
              "      <td>0.098217</td>\n",
              "      <td>0.762758</td>\n",
              "      <td>1.448832</td>\n",
              "    </tr>\n",
              "    <tr>\n",
              "      <th>55</th>\n",
              "      <td>-0.173674</td>\n",
              "      <td>-0.592373</td>\n",
              "      <td>0.421734</td>\n",
              "      <td>0.132510</td>\n",
              "    </tr>\n",
              "  </tbody>\n",
              "</table>\n",
              "</div>"
            ],
            "text/plain": [
              "     sepal_length  sepal_width  petal_length  petal_width\n",
              "25      -1.021849    -0.131979     -1.226552    -1.315444\n",
              "7       -1.021849     0.788808     -1.283389    -1.315444\n",
              "149      0.068662    -0.131979      0.762758     0.790671\n",
              "141      1.280340     0.098217      0.762758     1.448832\n",
              "55      -0.173674    -0.592373      0.421734     0.132510"
            ]
          },
          "metadata": {},
          "execution_count": 5
        }
      ]
    },
    {
      "cell_type": "code",
      "metadata": {
        "colab": {
          "base_uri": "https://localhost:8080/"
        },
        "id": "NRhQjAibnMK9",
        "outputId": "11567c3f-b001-40a3-dd01-40041d4da452"
      },
      "source": [
        "from sklearn.mixture import GaussianMixture\n",
        "\n",
        "nclusters = 3\n",
        "seed = 0\n",
        "\n",
        "gmm = GaussianMixture(n_components=nclusters)\n",
        "gmm.fit(X_scaled)\n",
        "\n",
        "# predict the cluster for each data point\n",
        "y_cluster_gmm = gmm.predict(X_scaled)\n",
        "y_cluster_gmm"
      ],
      "execution_count": 6,
      "outputs": [
        {
          "output_type": "execute_result",
          "data": {
            "text/plain": [
              "array([1, 1, 1, 1, 1, 1, 1, 1, 1, 1, 1, 1, 1, 1, 1, 1, 1, 1, 1, 1, 1, 1,\n",
              "       1, 1, 1, 1, 1, 1, 1, 1, 1, 1, 1, 1, 1, 1, 1, 1, 1, 1, 1, 1, 1, 1,\n",
              "       1, 1, 1, 1, 1, 1, 0, 0, 0, 0, 0, 0, 0, 0, 0, 0, 0, 0, 0, 0, 0, 0,\n",
              "       0, 0, 2, 0, 2, 0, 2, 0, 0, 0, 0, 2, 0, 0, 0, 0, 0, 2, 0, 0, 0, 0,\n",
              "       0, 0, 0, 0, 0, 0, 0, 0, 0, 0, 0, 0, 2, 2, 2, 2, 2, 2, 2, 2, 2, 2,\n",
              "       2, 2, 2, 2, 2, 2, 2, 2, 2, 2, 2, 2, 2, 2, 2, 2, 2, 2, 2, 2, 2, 2,\n",
              "       2, 2, 2, 2, 2, 2, 2, 2, 2, 2, 2, 2, 2, 2, 2, 2, 2, 2])"
            ]
          },
          "metadata": {},
          "execution_count": 6
        }
      ]
    },
    {
      "cell_type": "markdown",
      "metadata": {
        "id": "kk2mWYza9kbr"
      },
      "source": [
        "Report value of np.sum(y_pred==y) / len(y_pred)"
      ]
    },
    {
      "cell_type": "code",
      "metadata": {
        "colab": {
          "base_uri": "https://localhost:8080/"
        },
        "id": "qwuzNJD-9jzp",
        "outputId": "8379ccc0-bb0f-4d7f-ee15-cfc5c4468e06"
      },
      "source": [
        " df_target = np.array(df_target).reshape(150,)\n",
        "\n",
        "np.sum(y_cluster_gmm==df_target) / len(y_cluster_gmm)"
      ],
      "execution_count": 7,
      "outputs": [
        {
          "output_type": "execute_result",
          "data": {
            "text/plain": [
              "0.3333333333333333"
            ]
          },
          "metadata": {},
          "execution_count": 7
        }
      ]
    },
    {
      "cell_type": "markdown",
      "metadata": {
        "id": "v3xHODwDprOZ"
      },
      "source": [
        "Generate blobs from a new dataset, use “ from sklearn.datasets import make_blobs” . Use the following parameters:"
      ]
    },
    {
      "cell_type": "code",
      "metadata": {
        "id": "ZPG2g4s3p1uf"
      },
      "source": [
        "from sklearn.datasets import make_blobs\n",
        "X, y = make_blobs(n_samples=2000, centers = np.array(\n",
        "    [[ 0.2,  2.3],\n",
        "     [-1.5 ,  2.3],\n",
        "     [-2.8,  1.8],\n",
        "     [-2.8,  2.8],\n",
        "     [-2.8,  1.3]]), cluster_std = np.array([0.4, 0.3, 0.1, 0.1, 0.1]) , random_state=0)\n"
      ],
      "execution_count": 8,
      "outputs": []
    },
    {
      "cell_type": "markdown",
      "metadata": {
        "id": "Wf63XAE-sV4U"
      },
      "source": [
        "Plot the blobs"
      ]
    },
    {
      "cell_type": "code",
      "metadata": {
        "colab": {
          "base_uri": "https://localhost:8080/",
          "height": 415
        },
        "id": "DYd5G21rrgdf",
        "outputId": "ae3e9273-25fe-4fe9-a873-e8049ef9741b"
      },
      "source": [
        "plt.hist(X, bins=np.arange(int(np.min(X))-1,int(np.max(X))+1,0.5), width = 0.3)"
      ],
      "execution_count": 9,
      "outputs": [
        {
          "output_type": "execute_result",
          "data": {
            "text/plain": [
              "(array([[0.000e+00, 2.100e+01, 1.177e+03, 1.300e+01, 1.730e+02, 1.980e+02,\n",
              "         3.600e+01, 1.230e+02, 1.750e+02, 7.500e+01, 9.000e+00, 0.000e+00,\n",
              "         0.000e+00, 0.000e+00, 0.000e+00],\n",
              "        [0.000e+00, 0.000e+00, 0.000e+00, 0.000e+00, 0.000e+00, 0.000e+00,\n",
              "         0.000e+00, 0.000e+00, 0.000e+00, 1.000e+00, 4.030e+02, 5.400e+02,\n",
              "         4.500e+02, 5.790e+02, 2.700e+01]]),\n",
              " array([-4. , -3.5, -3. , -2.5, -2. , -1.5, -1. , -0.5,  0. ,  0.5,  1. ,\n",
              "         1.5,  2. ,  2.5,  3. ,  3.5]),\n",
              " <a list of 2 Lists of Patches objects>)"
            ]
          },
          "metadata": {},
          "execution_count": 9
        },
        {
          "output_type": "display_data",
          "data": {
            "image/png": "[encoded data removed]",
            "text/plain": [
              "<Figure size 432x288 with 1 Axes>"
            ]
          },
          "metadata": {
            "needs_background": "light"
          }
        }
      ]
    },
    {
      "cell_type": "code",
      "metadata": {
        "colab": {
          "base_uri": "https://localhost:8080/",
          "height": 332
        },
        "id": "vu0DAlUWsPk0",
        "outputId": "3fa7a99a-4463-4e97-fa5e-128ef7313d52"
      },
      "source": [
        "plt.hist(y, bins=np.arange(int(np.min(y))-1,int(np.max(y))+1,0.5), width = 0.3)"
      ],
      "execution_count": 10,
      "outputs": [
        {
          "output_type": "execute_result",
          "data": {
            "text/plain": [
              "(array([  0.,   0., 400.,   0., 400.,   0., 400.,   0., 400.,   0., 400.]),\n",
              " array([-1. , -0.5,  0. ,  0.5,  1. ,  1.5,  2. ,  2.5,  3. ,  3.5,  4. ,\n",
              "         4.5]),\n",
              " <a list of 11 Patch objects>)"
            ]
          },
          "metadata": {},
          "execution_count": 10
        },
        {
          "output_type": "display_data",
          "data": {
            "image/png": "[encoded data removed]",
            "text/plain": [
              "<Figure size 432x288 with 1 Axes>"
            ]
          },
          "metadata": {
            "needs_background": "light"
          }
        }
      ]
    },
    {
      "cell_type": "markdown",
      "metadata": {
        "id": "5DWkIF1bsY__"
      },
      "source": [
        "Train k-means to train on this dataset"
      ]
    },
    {
      "cell_type": "code",
      "metadata": {
        "colab": {
          "base_uri": "https://localhost:8080/"
        },
        "id": "6vFsYEAdsbsn",
        "outputId": "99c47481-85aa-4c80-cfd4-94376074a500"
      },
      "source": [
        "from sklearn.cluster import KMeans\n",
        "\n",
        "nclusters = 5 # this is the k in kmeans\n",
        "seed = 0\n",
        "\n",
        "km = KMeans(n_clusters=nclusters,random_state=seed)\n",
        "km.fit(X)\n",
        "\n",
        "# predict the cluster for each data point\n",
        "y_cluster_kmeans = km.predict(X)\n",
        "y_cluster_kmeans"
      ],
      "execution_count": 11,
      "outputs": [
        {
          "output_type": "execute_result",
          "data": {
            "text/plain": [
              "array([3, 1, 1, ..., 3, 3, 0], dtype=int32)"
            ]
          },
          "metadata": {},
          "execution_count": 11
        }
      ]
    },
    {
      "cell_type": "code",
      "metadata": {
        "colab": {
          "base_uri": "https://localhost:8080/"
        },
        "id": "VU9t_DQURmXs",
        "outputId": "32589723-b556-4814-af79-e73304c8cb6b"
      },
      "source": [
        "km.cluster_centers_"
      ],
      "execution_count": 12,
      "outputs": [
        {
          "output_type": "execute_result",
          "data": {
            "text/plain": [
              "array([[-1.46332098,  2.31083369],\n",
              "       [-2.80446936,  1.79959228],\n",
              "       [-2.80180006,  2.79464334],\n",
              "       [ 0.17864202,  2.27506362],\n",
              "       [-2.80379109,  1.30017997]])"
            ]
          },
          "metadata": {},
          "execution_count": 12
        }
      ]
    },
    {
      "cell_type": "code",
      "metadata": {
        "colab": {
          "base_uri": "https://localhost:8080/"
        },
        "id": "BiC2bnLVtnAP",
        "outputId": "4bb75b76-db1c-4a4b-e552-ae68fe64d37a"
      },
      "source": [
        "from sklearn import metrics\n",
        "score = metrics.silhouette_score(X, y_cluster_kmeans)\n",
        "score"
      ],
      "execution_count": 13,
      "outputs": [
        {
          "output_type": "execute_result",
          "data": {
            "text/plain": [
              "0.6553151762115746"
            ]
          },
          "metadata": {},
          "execution_count": 13
        }
      ]
    },
    {
      "cell_type": "markdown",
      "metadata": {
        "id": "nFvZZ5akt7pl"
      },
      "source": [
        "Print the value of the centroids"
      ]
    },
    {
      "cell_type": "code",
      "metadata": {
        "colab": {
          "base_uri": "https://localhost:8080/"
        },
        "id": "GdjH_yNnt7JA",
        "outputId": "ae868691-05a6-4711-d94d-e1d4f29b9042"
      },
      "source": [
        "centroids = km.cluster_centers_\n",
        "print(centroids)"
      ],
      "execution_count": 14,
      "outputs": [
        {
          "output_type": "stream",
          "name": "stdout",
          "text": [
            "[[-1.46332098  2.31083369]\n",
            " [-2.80446936  1.79959228]\n",
            " [-2.80180006  2.79464334]\n",
            " [ 0.17864202  2.27506362]\n",
            " [-2.80379109  1.30017997]]\n"
          ]
        }
      ]
    },
    {
      "cell_type": "markdown",
      "metadata": {
        "id": "Px_5p7_OuR8f"
      },
      "source": [
        "Given X_new = np.array([[0, 2], [3, 2], [-3, 3], [-3, 2.5]]), predict labels of new instances"
      ]
    },
    {
      "cell_type": "code",
      "metadata": {
        "colab": {
          "base_uri": "https://localhost:8080/"
        },
        "id": "uRYgGSqbuVG9",
        "outputId": "977138a9-52b1-4805-8e87-af148bead43a"
      },
      "source": [
        "X_new = np.array([[0, 2], [3, 2], [-3, 3], [-3, 2.5]])\n",
        "new_cluster_kmeans = km.predict(X_new)\n",
        "new_cluster_kmeans"
      ],
      "execution_count": 15,
      "outputs": [
        {
          "output_type": "execute_result",
          "data": {
            "text/plain": [
              "array([3, 3, 2, 2], dtype=int32)"
            ]
          },
          "metadata": {},
          "execution_count": 15
        }
      ]
    },
    {
      "cell_type": "markdown",
      "metadata": {
        "id": "suRzOhzCul9E"
      },
      "source": [
        "Plot model’s decision boundaries using data, centroids,decision boundaries. Result should be a voronoi_plot"
      ]
    },
    {
      "cell_type": "code",
      "metadata": {
        "colab": {
          "base_uri": "https://localhost:8080/",
          "height": 281
        },
        "id": "0vIiqWzXulPa",
        "outputId": "414a66de-8033-41cb-823a-0a0eace948e8"
      },
      "source": [
        "import matplotlib\n",
        "# pyplot.contourf(X_scaled, centroids, zz, cmap='Paired')\n",
        "\n",
        "from scipy.spatial import Voronoi, voronoi_plot_2d\n",
        "\n",
        "vor = Voronoi(centroids)\n",
        "\n",
        "## Draw boundaries\n",
        "voronoi_plot_2d(vor)\n",
        "\n",
        "my_colors = [\"red\", \"green\", \"blue\", \"black\", \"yellow\"]\n",
        "\n",
        "## Add color to points\n",
        "plt.scatter(x=X[:,0],\n",
        "            y=X[:,1],\n",
        "            c=y,\n",
        "            cmap=matplotlib.colors.ListedColormap(my_colors))\n",
        "\n",
        "\n",
        "plt.title(\"Iris dataset\")\n",
        "\n",
        "## Fix my legend\n",
        "#plt.legend((p,p,p), (iris.target_names))\n",
        "ax = plt.gca()\n",
        "legend = ax.get_legend()\n",
        "\n",
        "plt.show()"
      ],
      "execution_count": 16,
      "outputs": [
        {
          "output_type": "display_data",
          "data": {
            "image/png": "[encoded data removed]",
            "text/plain": [
              "<Figure size 432x288 with 1 Axes>"
            ]
          },
          "metadata": {
            "needs_background": "light"
          }
        }
      ]
    },
    {
      "cell_type": "markdown",
      "metadata": {
        "id": "c-SC-lsC1k-K"
      },
      "source": [
        "Set values of k = 3 and k = 8, explain your results in both cases by means of the resultant intertia"
      ]
    },
    {
      "cell_type": "code",
      "metadata": {
        "colab": {
          "base_uri": "https://localhost:8080/"
        },
        "id": "_4hvuaPY1lRA",
        "outputId": "e959d07c-3bfc-4ef0-a05d-3ed5e4963ae5"
      },
      "source": [
        "km3 = KMeans(n_clusters=3, random_state=seed)\n",
        "km3.fit(X)\n",
        "\n",
        "km3.inertia_"
      ],
      "execution_count": 17,
      "outputs": [
        {
          "output_type": "execute_result",
          "data": {
            "text/plain": [
              "646.230269055688"
            ]
          },
          "metadata": {},
          "execution_count": 17
        }
      ]
    },
    {
      "cell_type": "code",
      "metadata": {
        "colab": {
          "base_uri": "https://localhost:8080/"
        },
        "id": "Pp7pxjTj1sHv",
        "outputId": "a5401e5e-a160-43cd-e66d-71ef27ce77c9"
      },
      "source": [
        "km8 = KMeans(n_clusters=8, random_state=seed)\n",
        "km8.fit(X)\n",
        "\n",
        "km8.inertia_"
      ],
      "execution_count": 18,
      "outputs": [
        {
          "output_type": "execute_result",
          "data": {
            "text/plain": [
              "121.54698628667417"
            ]
          },
          "metadata": {},
          "execution_count": 18
        }
      ]
    },
    {
      "cell_type": "markdown",
      "metadata": {
        "id": "x4O0I-2R4GP6"
      },
      "source": [
        "When the clusters is set at 3, the Inertia value is drastically higher ( 646.230269055688 ) than the Intertia value ( 121.54698628667417 ) when clusters is set at 8. This show that the data information present in the cluster decreases when the intertia decreases which leads to a performance decrease."
      ]
    },
    {
      "cell_type": "markdown",
      "metadata": {
        "id": "dRNtwNlR4G9k"
      },
      "source": [
        "plot the inertia as a function of k and analyze the resulting curve, show plots, = 2 points"
      ]
    },
    {
      "cell_type": "code",
      "metadata": {
        "colab": {
          "base_uri": "https://localhost:8080/",
          "height": 318
        },
        "id": "3u55fu__3_Hy",
        "outputId": "b51d0ee7-1619-4517-e05f-b7debdd2ded0"
      },
      "source": [
        "inertia_list = []\n",
        "for num_clusters in range(1, 11):\n",
        "    kmeans_model = KMeans(n_clusters=num_clusters, random_state=seed)\n",
        "    kmeans_model.fit(X)\n",
        "    inertia_list.append(kmeans_model.inertia_)\n",
        "    \n",
        "# plot the inertia curve\n",
        "plt.plot(range(1,11),inertia_list)\n",
        "plt.scatter(range(1,11),inertia_list)\n",
        "plt.scatter(4, inertia_list[4], marker=\"X\", s=300, c=\"r\")\n",
        "plt.xlabel(\"Number of Clusters\", size=13)\n",
        "plt.ylabel(\"Inertia Value\", size=13)\n",
        "plt.title(\"Different Inertia Values for Different Number of Clusters\", size=17)\n"
      ],
      "execution_count": 19,
      "outputs": [
        {
          "output_type": "execute_result",
          "data": {
            "text/plain": [
              "Text(0.5, 1.0, 'Different Inertia Values for Different Number of Clusters')"
            ]
          },
          "metadata": {},
          "execution_count": 19
        },
        {
          "output_type": "display_data",
          "data": {
            "image/png": "[encoded data removed]",
            "text/plain": [
              "<Figure size 432x288 with 1 Axes>"
            ]
          },
          "metadata": {
            "needs_background": "light"
          }
        }
      ]
    },
    {
      "cell_type": "markdown",
      "metadata": {
        "id": "lXGY_vl54gxi"
      },
      "source": [
        "X-marker marks the elbow point. The elbow point gives the optimal number of clusters, which is four here. The data set is created such that there are four different clusters. When adding more clusters, the Inertia value decreases, but also the information contained in a cluster decreases further. Having to many clusters leads to a performance decrease and also to a not optimal clustering result."
      ]
    },
    {
      "cell_type": "markdown",
      "metadata": {
        "id": "Rhpfhb2f4jfD"
      },
      "source": [
        "what is the value of k at elbow? 210.90"
      ]
    }
  ]
}